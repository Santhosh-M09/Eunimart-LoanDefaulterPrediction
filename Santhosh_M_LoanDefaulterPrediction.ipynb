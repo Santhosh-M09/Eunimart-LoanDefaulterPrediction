{
  "cells": [
    {
      "cell_type": "code",
      "execution_count": 1,
      "metadata": {
        "id": "c9F6B57SK-gR"
      },
      "outputs": [],
      "source": [
        "#import Neccessary Packages \n",
        "import numpy as np\n",
        "import pandas as pd\n",
        "from sklearn.metrics import accuracy_score\n",
        "from sklearn.metrics import auc\n",
        "from sklearn.metrics import roc_auc_score\n",
        "from sklearn.model_selection import train_test_split"
      ]
    },
    {
      "cell_type": "code",
      "execution_count": null,
      "metadata": {
        "id": "LNs4d0ZGLyrG"
      },
      "outputs": [],
      "source": [
        "#importing the required Data set \n",
        "dfTrain = pd.read_csv('train_indessa.csv')"
      ]
    },
    {
      "cell_type": "code",
      "execution_count": null,
      "metadata": {
        "id": "uc7kYJmNMXZD"
      },
      "outputs": [],
      "source": [
        "#strip off the textual part for better conversion of Categorical Values to Numerical Values\n",
        "dfTrain['term'].replace(to_replace=' months', value='', regex=True, inplace=True)\n",
        "\n",
        "dfTrain['term'] = pd.to_numeric(dfTrain['term'], errors='coerce')"
      ]
    },
    {
      "cell_type": "code",
      "execution_count": null,
      "metadata": {
        "id": "eAOeuekHMgEl"
      },
      "outputs": [],
      "source": [
        "dfTrain['emp_length'].replace('n/a', '0', inplace=True)\n",
        "dfTrain['emp_length'].replace(to_replace='\\+ years', value='', regex=True, inplace=True)\n",
        "dfTrain['emp_length'].replace(to_replace=' years', value='', regex=True, inplace=True)\n",
        "dfTrain['emp_length'].replace(to_replace='< 1 year', value='0', regex=True, inplace=True)\n",
        "dfTrain['emp_length'].replace(to_replace=' year', value='', regex=True, inplace=True)\n",
        "\n",
        "dfTrain['emp_length'] = pd.to_numeric(dfTrain['emp_length'], errors='coerce')"
      ]
    },
    {
      "cell_type": "code",
      "execution_count": null,
      "metadata": {
        "id": "_VhYvXq0MvHv"
      },
      "outputs": [],
      "source": [
        "dfTrain['last_week_pay'].replace(to_replace='th week', value='', regex=True, inplace=True)\n",
        "dfTrain['last_week_pay'].replace(to_replace='NA', value='', regex=True, inplace=True)\n",
        "\n",
        "dfTrain['last_week_pay'] = pd.to_numeric(dfTrain['last_week_pay'], errors='coerce')"
      ]
    },
    {
      "cell_type": "code",
      "execution_count": null,
      "metadata": {
        "id": "n_ls0jQkM6Xj"
      },
      "outputs": [],
      "source": [
        "#replcaing the grades into numerical values\n",
        "dfTrain['sub_grade'].replace(to_replace='A', value='0', regex=True, inplace=True)\n",
        "dfTrain['sub_grade'].replace(to_replace='B', value='1', regex=True, inplace=True)\n",
        "dfTrain['sub_grade'].replace(to_replace='C', value='2', regex=True, inplace=True)\n",
        "dfTrain['sub_grade'].replace(to_replace='D', value='3', regex=True, inplace=True)\n",
        "dfTrain['sub_grade'].replace(to_replace='E', value='4', regex=True, inplace=True)\n",
        "dfTrain['sub_grade'].replace(to_replace='F', value='5', regex=True, inplace=True)\n",
        "dfTrain['sub_grade'].replace(to_replace='G', value='6', regex=True, inplace=True)\n",
        "\n",
        "dfTrain['sub_grade'] = pd.to_numeric(dfTrain['sub_grade'],errors = 'coerce') "
      ]
    },
    {
      "cell_type": "code",
      "execution_count": null,
      "metadata": {
        "id": "TnJ8ybsuNeFA"
      },
      "outputs": [],
      "source": [
        "#Filling the missing values\n",
        "cols = ['term', 'loan_amnt', 'funded_amnt','funded_amnt_inv', 'last_week_pay', 'int_rate', 'sub_grade', 'annual_inc', 'dti', 'mths_since_last_delinq', 'mths_since_last_record', 'open_acc', 'revol_bal', 'revol_util', 'total_acc', 'total_rec_int', 'mths_since_last_major_derog', 'tot_coll_amt', 'tot_cur_bal', 'total_rev_hi_lim', 'emp_length']\n",
        "for col in cols:\n",
        "    dfTrain[col].fillna(dfTrain[col].median(), inplace=True)\n",
        "\n",
        "cols = ['acc_now_delinq', 'total_rec_late_fee', 'recoveries', 'collection_recovery_fee', 'collections_12_mths_ex_med']\n",
        "for col in cols:\n",
        "    dfTrain[col].fillna(0, inplace=True)"
      ]
    },
    {
      "cell_type": "code",
      "execution_count": null,
      "metadata": {
        "colab": {
          "base_uri": "https://localhost:8080/"
        },
        "id": "hzYnuntxNvSV",
        "outputId": "7837c6cb-91c5-4c2d-b4b6-e8f35ec5d777"
      },
      "outputs": [
        {
          "name": "stderr",
          "output_type": "stream",
          "text": [
            "C:\\Users\\ajay2\\AppData\\Local\\Temp\\ipykernel_7124\\3218591.py:6: SettingWithCopyWarning: \n",
            "A value is trying to be set on a copy of a slice from a DataFrame.\n",
            "Try using .loc[row_indexer,col_indexer] = value instead\n",
            "\n",
            "See the caveats in the documentation: https://pandas.pydata.org/pandas-docs/stable/user_guide/indexing.html#returning-a-view-versus-a-copy\n",
            "  finalTrain['loan_to_income'] = finalTrain['annual_inc']/finalTrain['funded_amnt_inv']\n",
            "C:\\Users\\ajay2\\AppData\\Local\\Temp\\ipykernel_7124\\3218591.py:8: SettingWithCopyWarning: \n",
            "A value is trying to be set on a copy of a slice from a DataFrame.\n",
            "Try using .loc[row_indexer,col_indexer] = value instead\n",
            "\n",
            "See the caveats in the documentation: https://pandas.pydata.org/pandas-docs/stable/user_guide/indexing.html#returning-a-view-versus-a-copy\n",
            "  finalTrain['bad_state'] = finalTrain['acc_now_delinq'] + (finalTrain['total_rec_late_fee']/finalTrain['funded_amnt_inv']) + (finalTrain['recoveries']/finalTrain['funded_amnt_inv']) + (finalTrain['collection_recovery_fee']/finalTrain['funded_amnt_inv']) + (finalTrain['collections_12_mths_ex_med']/finalTrain['funded_amnt_inv'])\n",
            "C:\\Users\\ajay2\\AppData\\Local\\Temp\\ipykernel_7124\\3218591.py:12: SettingWithCopyWarning: \n",
            "A value is trying to be set on a copy of a slice from a DataFrame.\n",
            "Try using .loc[row_indexer,col_indexer] = value instead\n",
            "\n",
            "See the caveats in the documentation: https://pandas.pydata.org/pandas-docs/stable/user_guide/indexing.html#returning-a-view-versus-a-copy\n",
            "  finalTrain['avl_lines'] = finalTrain['total_acc'] - finalTrain['open_acc']\n",
            "C:\\Users\\ajay2\\AppData\\Local\\Temp\\ipykernel_7124\\3218591.py:14: SettingWithCopyWarning: \n",
            "A value is trying to be set on a copy of a slice from a DataFrame.\n",
            "Try using .loc[row_indexer,col_indexer] = value instead\n",
            "\n",
            "See the caveats in the documentation: https://pandas.pydata.org/pandas-docs/stable/user_guide/indexing.html#returning-a-view-versus-a-copy\n",
            "  finalTrain['int_paid'] = finalTrain['total_rec_int'] + finalTrain['total_rec_late_fee']\n",
            "C:\\Users\\ajay2\\AppData\\Local\\Temp\\ipykernel_7124\\3218591.py:16: SettingWithCopyWarning: \n",
            "A value is trying to be set on a copy of a slice from a DataFrame.\n",
            "Try using .loc[row_indexer,col_indexer] = value instead\n",
            "\n",
            "See the caveats in the documentation: https://pandas.pydata.org/pandas-docs/stable/user_guide/indexing.html#returning-a-view-versus-a-copy\n",
            "  finalTrain['emi_paid_progress_perc'] = ((finalTrain['last_week_pay']/(finalTrain['term']/12*52+1))*100)\n",
            "C:\\Users\\ajay2\\AppData\\Local\\Temp\\ipykernel_7124\\3218591.py:18: SettingWithCopyWarning: \n",
            "A value is trying to be set on a copy of a slice from a DataFrame.\n",
            "Try using .loc[row_indexer,col_indexer] = value instead\n",
            "\n",
            "See the caveats in the documentation: https://pandas.pydata.org/pandas-docs/stable/user_guide/indexing.html#returning-a-view-versus-a-copy\n",
            "  finalTrain['total_repayment_progress'] = ((finalTrain['last_week_pay']/(finalTrain['term']/12*52+1))*100) + ((finalTrain['recoveries']/finalTrain['funded_amnt_inv']) * 100)\n"
          ]
        }
      ],
      "source": [
        "# Feature Enginnering\n",
        "train_target = pd.DataFrame(dfTrain['loan_status'])\n",
        "\n",
        "selected_cols = ['member_id', 'emp_length', 'loan_amnt', 'funded_amnt', 'funded_amnt_inv', 'sub_grade', 'int_rate', 'annual_inc', 'dti', 'mths_since_last_delinq', 'mths_since_last_record', 'open_acc', 'revol_bal', 'revol_util', 'total_acc', 'total_rec_int', 'total_rec_late_fee', 'mths_since_last_major_derog', 'last_week_pay', 'tot_cur_bal', 'total_rev_hi_lim', 'tot_coll_amt', 'recoveries', 'collection_recovery_fee', 'term', 'acc_now_delinq', 'collections_12_mths_ex_med']\n",
        "finalTrain = dfTrain[selected_cols]\n",
        "\n",
        "#finding the loan to income ratio by dividing the annual income to funded amount investor\n",
        "finalTrain['loan_to_income'] = finalTrain['annual_inc']/finalTrain['funded_amnt_inv']\n",
        "\n",
        "#finding the bad state and intializing the values to be binary by using 1 and 0 to represent whether the thing has gone bad.\n",
        "finalTrain['bad_state'] = finalTrain['acc_now_delinq'] + (finalTrain['total_rec_late_fee']/finalTrain['funded_amnt_inv']) + (finalTrain['recoveries']/finalTrain['funded_amnt_inv']) + (finalTrain['collection_recovery_fee']/finalTrain['funded_amnt_inv']) + (finalTrain['collections_12_mths_ex_med']/finalTrain['funded_amnt_inv'])\n",
        "\n",
        "finalTrain.loc[finalTrain['bad_state'] > 0, 'bad_state'] = 1\n",
        "\n",
        "#these represent the unused credit lines\n",
        "finalTrain['avl_lines'] = finalTrain['total_acc'] - finalTrain['open_acc']\n",
        "\n",
        "#int_paid represents the interest paid\n",
        "finalTrain['int_paid'] = finalTrain['total_rec_int'] + finalTrain['total_rec_late_fee']\n",
        "\n",
        "#EMI Paid progress percetntage by calculating the last week pay by the term period\n",
        "finalTrain['emi_paid_progress_perc'] = ((finalTrain['last_week_pay']/(finalTrain['term']/12*52+1))*100)\n",
        "\n",
        "#Total Repayment Progress \n",
        "finalTrain['total_repayment_progress'] = ((finalTrain['last_week_pay']/(finalTrain['term']/12*52+1))*100) + ((finalTrain['recoveries']/finalTrain['funded_amnt_inv']) * 100)"
      ]
    },
    {
      "cell_type": "code",
      "execution_count": null,
      "metadata": {
        "id": "HUErrLoPOm_-"
      },
      "outputs": [],
      "source": [
        "#Splitting the Data set into testing and training for prediction\n",
        "X_train, X_test, y_train, y_test = train_test_split(np.array(finalTrain), np.array(train_target), test_size=0.30)\n",
        "eval_set=[(X_test, y_test)]"
      ]
    },
    {
      "cell_type": "code",
      "execution_count": null,
      "metadata": {
        "id": "2tAN6_lSCJvx",
        "outputId": "30475a9a-c77b-4d51-8a67-74008305fc7f"
      },
      "outputs": [
        {
          "data": {
            "text/plain": [
              "member_id                        0\n",
              "emp_length                       0\n",
              "loan_amnt                        0\n",
              "funded_amnt                      0\n",
              "funded_amnt_inv                  0\n",
              "sub_grade                        0\n",
              "int_rate                         0\n",
              "annual_inc                       0\n",
              "dti                              0\n",
              "mths_since_last_delinq           0\n",
              "mths_since_last_record           0\n",
              "open_acc                         0\n",
              "revol_bal                        0\n",
              "revol_util                       0\n",
              "total_acc                        0\n",
              "total_rec_int                    0\n",
              "total_rec_late_fee               0\n",
              "mths_since_last_major_derog      0\n",
              "last_week_pay                    0\n",
              "tot_cur_bal                      0\n",
              "total_rev_hi_lim                 0\n",
              "tot_coll_amt                     0\n",
              "recoveries                       0\n",
              "collection_recovery_fee          0\n",
              "term                             0\n",
              "acc_now_delinq                   0\n",
              "collections_12_mths_ex_med       0\n",
              "loan_to_income                   0\n",
              "bad_state                      139\n",
              "avl_lines                        0\n",
              "int_paid                         0\n",
              "emi_paid_progress_perc           0\n",
              "total_repayment_progress       113\n",
              "dtype: int64"
            ]
          },
          "execution_count": 10,
          "metadata": {},
          "output_type": "execute_result"
        }
      ],
      "source": [
        "#finding the Null values whther they are available\n",
        "finalTrain.isnull().sum()"
      ]
    },
    {
      "cell_type": "code",
      "execution_count": null,
      "metadata": {
        "id": "gU_nSBBgCJvy",
        "outputId": "e6857a13-9e4e-4016-857b-74cda6e9f393"
      },
      "outputs": [
        {
          "data": {
            "text/plain": [
              "True"
            ]
          },
          "execution_count": 11,
          "metadata": {},
          "output_type": "execute_result"
        }
      ],
      "source": [
        "finalTrain.isnull().values.any()"
      ]
    },
    {
      "cell_type": "code",
      "execution_count": null,
      "metadata": {
        "id": "WK_V0UNQCJvz",
        "outputId": "8c26ed28-4a67-4805-af86-9fd1e67066cc"
      },
      "outputs": [
        {
          "name": "stderr",
          "output_type": "stream",
          "text": [
            "C:\\Users\\ajay2\\AppData\\Local\\Temp\\ipykernel_7124\\2378622525.py:1: SettingWithCopyWarning: \n",
            "A value is trying to be set on a copy of a slice from a DataFrame\n",
            "\n",
            "See the caveats in the documentation: https://pandas.pydata.org/pandas-docs/stable/user_guide/indexing.html#returning-a-view-versus-a-copy\n",
            "  finalTrain['total_repayment_progress'].fillna(0,inplace = True)\n"
          ]
        }
      ],
      "source": [
        "finalTrain['total_repayment_progress'].fillna(0,inplace = True)"
      ]
    },
    {
      "cell_type": "code",
      "execution_count": null,
      "metadata": {
        "id": "ww_l6JpXCJvz",
        "outputId": "1df94376-f52e-48d7-9b53-1ba1ad99aecc"
      },
      "outputs": [
        {
          "name": "stderr",
          "output_type": "stream",
          "text": [
            "C:\\Users\\ajay2\\AppData\\Local\\Temp\\ipykernel_7124\\469964713.py:1: SettingWithCopyWarning: \n",
            "A value is trying to be set on a copy of a slice from a DataFrame\n",
            "\n",
            "See the caveats in the documentation: https://pandas.pydata.org/pandas-docs/stable/user_guide/indexing.html#returning-a-view-versus-a-copy\n",
            "  finalTrain['bad_state'].fillna(0,inplace = True)\n"
          ]
        }
      ],
      "source": [
        "finalTrain['bad_state'].fillna(0,inplace = True)"
      ]
    },
    {
      "cell_type": "code",
      "execution_count": null,
      "metadata": {
        "id": "MR88G0jOCJvz",
        "outputId": "973b208b-dab0-42c9-c559-820c654f8abf"
      },
      "outputs": [
        {
          "data": {
            "text/plain": [
              "<catboost.core.CatBoostClassifier at 0x213cd0dcbe0>"
            ]
          },
          "execution_count": 14,
          "metadata": {},
          "output_type": "execute_result"
        }
      ],
      "source": [
        "#CatBoost is the Classifier used for predicting the Values as it provides the most accurate prediction. The other models like XgBoost, Gaussian Boost, Light Gradient Boosting.\n",
        "from catboost import CatBoostClassifier\n",
        "cat_clf = CatBoostClassifier(learning_rate=0.1, n_estimators=1400, subsample=0.70, max_depth=6, scale_pos_weight=2.5, silent=True)\n",
        "#fiting the model witht the Xtrain and Ytrain\n",
        "cat_clf.fit(X_train, y_train)"
      ]
    },
    {
      "cell_type": "code",
      "execution_count": null,
      "metadata": {
        "id": "cdQHrAiLYDt-",
        "outputId": "f18e46b8-3598-4635-90ba-ce21cf5e8f1b"
      },
      "outputs": [
        {
          "name": "stdout",
          "output_type": "stream",
          "text": [
            "==========================\n",
            "Train Accuracy: 94.3791102203%\n"
          ]
        }
      ],
      "source": [
        "#By comparing the YTrain and YPredicted Values we are able to derive the accuracy.\n",
        "y_pred = cat_clf.predict(X_train)\n",
        "print(\"==========================\")\n",
        "print('Train Accuracy: %.10f%%' % (accuracy_score(y_train, y_pred) *100.0))"
      ]
    },
    {
      "cell_type": "code",
      "execution_count": null,
      "metadata": {
        "id": "fT2hULiaCJv0",
        "outputId": "2bcc9fb4-16d1-4fb7-e847-3d8a1e3d5aa5"
      },
      "outputs": [
        {
          "name": "stdout",
          "output_type": "stream",
          "text": [
            "AUC-ROC: 94.1666228692%\n"
          ]
        }
      ],
      "source": [
        "#ROC_AUC provides us with the Ytrain and Ypred value provides the replation between true postive rate and false positive rate\n",
        "roc_auc = roc_auc_score(y_train, y_pred)\n",
        "print(\"AUC-ROC: %.10f%%\" % (roc_auc * 100))"
      ]
    },
    {
      "cell_type": "code",
      "execution_count": null,
      "metadata": {
        "id": "HgtDMK8BCJv1",
        "outputId": "b9cf807e-2a93-4e77-a7b4-e2909dde1164"
      },
      "outputs": [
        {
          "name": "stdout",
          "output_type": "stream",
          "text": [
            "AUC-PR: 80.4814688918%\n"
          ]
        }
      ],
      "source": [
        "#Measure the trade off between the precision and recall by YTrain and YPred\n",
        "from sklearn.metrics import average_precision_score  \n",
        "\n",
        "pr_auc = average_precision_score(y_train,y_pred)\n",
        "print(\"AUC-PR: %.10f%%\" % (pr_auc * 100))"
      ]
    },
    {
      "cell_type": "code",
      "execution_count": null,
      "metadata": {
        "id": "qYY1VIYGCJv1",
        "outputId": "a0b13d55-d711-4e81-8ba5-31cc70f3487a"
      },
      "outputs": [
        {
          "name": "stderr",
          "output_type": "stream",
          "text": [
            "Matplotlib is building the font cache; this may take a moment.\n"
          ]
        }
      ],
      "source": [
        "#plotting the graph for better understanding of the AUC_ROC and AUC_PC\n",
        "import matplotlib.pyplot as plt\n",
        "from sklearn.metrics import roc_curve,precision_recall_curve\n",
        "\n",
        "fpr, tpr, thresholds = roc_curve(y_train, y_pred) \n",
        "auc_roc = auc(fpr, tpr)\n",
        "\n",
        "precision, recall, thresholds = precision_recall_curve(y_train, y_pred)\n",
        "auc_pr = auc(precision, recall)\n",
        "\n"
      ]
    },
    {
      "cell_type": "code",
      "execution_count": null,
      "metadata": {
        "id": "x08V1bDrCJv1",
        "outputId": "4eeab446-235c-4162-9c2b-a692a6dd649f"
      },
      "outputs": [
        {
          "data": {
            "image/png": "[encoded data removed]",
            "text/plain": [
              "<Figure size 640x480 with 1 Axes>"
            ]
          },
          "metadata": {},
          "output_type": "display_data"
        }
      ],
      "source": [
        "plt.plot(fpr, tpr, label='ROC curve (area = %0.2f)' % roc_auc)\n",
        "plt.plot([0, 1], [0, 1], 'k--')  # diagonal line indicating random guessing\n",
        "plt.xlabel('False Positive Rate')\n",
        "plt.ylabel('True Positive Rate')\n",
        "plt.title('Receiver Operating Characteristic (ROC) Curve')\n",
        "plt.legend(loc=\"lower right\")\n",
        "\n",
        "plt.show()"
      ]
    },
    {
      "cell_type": "code",
      "execution_count": null,
      "metadata": {
        "id": "oO3OD4UVCJv2",
        "outputId": "83a21794-5609-460f-de17-938d764b5ba2"
      },
      "outputs": [
        {
          "data": {
            "image/png": "[encoded data removed]",
            "text/plain": [
              "<Figure size 640x480 with 1 Axes>"
            ]
          },
          "metadata": {},
          "output_type": "display_data"
        }
      ],
      "source": [
        "plt.figure()\n",
        "plt.plot(recall, precision, label='PR curve (area = %0.2f)' % pr_auc)\n",
        "plt.xlabel('Recall')\n",
        "plt.ylabel('Precision')\n",
        "plt.title('Precision-Recall (PR) Curve')\n",
        "plt.legend(loc=\"lower left\")\n",
        "\n",
        "plt.show()"
      ]
    },
    {
      "cell_type": "code",
      "source": [
        "from prettytable import PrettyTable\n",
        "\n",
        "#If you get a ModuleNotFoundError error , install prettytable using: !pip install prettytable\n",
        "\n",
        "x = PrettyTable()\n",
        "x.field_names = [\"Model Used\", \"ROC-AUC\",\"Test Accuracy(%)\", \"PR-AUC\"]\n",
        "\n",
        "x.add_row([\"CatBoost Classifier\",  94.37, 94.16, 80.48])\n",
        "x.add_row([\"XGBoost Classifier\",  92.61, 89.81, 74.87])\n",
        "\n",
        "print(x)"
      ],
      "metadata": {
        "colab": {
          "base_uri": "https://localhost:8080/"
        },
        "id": "RMoqLEtUNOTG",
        "outputId": "1c1d6e55-9fb1-456c-c16a-ba247a707a53"
      },
      "execution_count": 4,
      "outputs": [
        {
          "output_type": "stream",
          "name": "stdout",
          "text": [
            "+---------------------+---------+------------------+--------+\n",
            "|      Model Used     | ROC-AUC | Test Accuracy(%) | PR-AUC |\n",
            "+---------------------+---------+------------------+--------+\n",
            "| CatBoost Classifier |  94.37  |      94.16       | 80.48  |\n",
            "|  XGBoost Classifier |  92.61  |      89.81       | 74.87  |\n",
            "+---------------------+---------+------------------+--------+\n"
          ]
        }
      ]
    }
  ],
  "metadata": {
    "colab": {
      "provenance": []
    },
    "kernelspec": {
      "display_name": "Python 3",
      "language": "python",
      "name": "python3"
    },
    "language_info": {
      "codemirror_mode": {
        "name": "ipython",
        "version": 3
      },
      "file_extension": ".py",
      "mimetype": "text/x-python",
      "name": "python",
      "nbconvert_exporter": "python",
      "pygments_lexer": "ipython3",
      "version": "3.10.8"
    },
    "vscode": {
      "interpreter": {
        "hash": "bde39e3467f251b94466f783486707fb01ebea446c4b2bc0fb9d7a4ba938de71"
      }
    }
  },
  "nbformat": 4,
  "nbformat_minor": 0
}